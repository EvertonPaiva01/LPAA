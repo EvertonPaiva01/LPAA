{
 "cells": [
  {
   "cell_type": "code",
   "execution_count": 20,
   "id": "52e804ae",
   "metadata": {},
   "outputs": [],
   "source": [
    "import pandas as pd\n",
    "import numpy as np"
   ]
  },
  {
   "cell_type": "markdown",
   "id": "7e776951",
   "metadata": {},
   "source": [
    "### Construção Series e DataFrame"
   ]
  },
  {
   "cell_type": "code",
   "execution_count": 2,
   "id": "c8fc224b",
   "metadata": {},
   "outputs": [],
   "source": [
    "#Series\n",
    "obj = pd.Series([4, 7, -5, 3])\n",
    "\n",
    "#Data Frame\n",
    "data = {'state': ['Ohio', 'Ohio', 'Ohio', 'Nevada', 'Nevada', 'Nevada'],\n",
    "'year': [2000, 2001, 2002, 2001, 2002, 2003],\n",
    "'pop': [1.5, 1.7, 3.6, 2.4, 2.9, 3.2]}\n",
    "\n",
    "df = pd.DataFrame(data)"
   ]
  },
  {
   "cell_type": "code",
   "execution_count": 3,
   "id": "af8a84d3",
   "metadata": {},
   "outputs": [
    {
     "data": {
      "text/plain": [
       "0    4\n",
       "1    7\n",
       "2   -5\n",
       "3    3\n",
       "dtype: int64"
      ]
     },
     "execution_count": 3,
     "metadata": {},
     "output_type": "execute_result"
    }
   ],
   "source": [
    "obj"
   ]
  },
  {
   "cell_type": "code",
   "execution_count": 4,
   "id": "3293a9ed",
   "metadata": {},
   "outputs": [
    {
     "data": {
      "text/html": [
       "<div>\n",
       "<style scoped>\n",
       "    .dataframe tbody tr th:only-of-type {\n",
       "        vertical-align: middle;\n",
       "    }\n",
       "\n",
       "    .dataframe tbody tr th {\n",
       "        vertical-align: top;\n",
       "    }\n",
       "\n",
       "    .dataframe thead th {\n",
       "        text-align: right;\n",
       "    }\n",
       "</style>\n",
       "<table border=\"1\" class=\"dataframe\">\n",
       "  <thead>\n",
       "    <tr style=\"text-align: right;\">\n",
       "      <th></th>\n",
       "      <th>state</th>\n",
       "      <th>year</th>\n",
       "      <th>pop</th>\n",
       "    </tr>\n",
       "  </thead>\n",
       "  <tbody>\n",
       "    <tr>\n",
       "      <th>0</th>\n",
       "      <td>Ohio</td>\n",
       "      <td>2000</td>\n",
       "      <td>1.5</td>\n",
       "    </tr>\n",
       "    <tr>\n",
       "      <th>1</th>\n",
       "      <td>Ohio</td>\n",
       "      <td>2001</td>\n",
       "      <td>1.7</td>\n",
       "    </tr>\n",
       "    <tr>\n",
       "      <th>2</th>\n",
       "      <td>Ohio</td>\n",
       "      <td>2002</td>\n",
       "      <td>3.6</td>\n",
       "    </tr>\n",
       "    <tr>\n",
       "      <th>3</th>\n",
       "      <td>Nevada</td>\n",
       "      <td>2001</td>\n",
       "      <td>2.4</td>\n",
       "    </tr>\n",
       "    <tr>\n",
       "      <th>4</th>\n",
       "      <td>Nevada</td>\n",
       "      <td>2002</td>\n",
       "      <td>2.9</td>\n",
       "    </tr>\n",
       "    <tr>\n",
       "      <th>5</th>\n",
       "      <td>Nevada</td>\n",
       "      <td>2003</td>\n",
       "      <td>3.2</td>\n",
       "    </tr>\n",
       "  </tbody>\n",
       "</table>\n",
       "</div>"
      ],
      "text/plain": [
       "    state  year  pop\n",
       "0    Ohio  2000  1.5\n",
       "1    Ohio  2001  1.7\n",
       "2    Ohio  2002  3.6\n",
       "3  Nevada  2001  2.4\n",
       "4  Nevada  2002  2.9\n",
       "5  Nevada  2003  3.2"
      ]
     },
     "execution_count": 4,
     "metadata": {},
     "output_type": "execute_result"
    }
   ],
   "source": [
    "df"
   ]
  },
  {
   "cell_type": "markdown",
   "id": "1c8d60ac",
   "metadata": {},
   "source": [
    "### Slicing e indexação"
   ]
  },
  {
   "cell_type": "code",
   "execution_count": 18,
   "id": "246e3a38",
   "metadata": {},
   "outputs": [
    {
     "name": "stdout",
     "output_type": "stream",
     "text": [
      "3    Nevada\n",
      "4    Nevada\n",
      "5    Nevada\n",
      "Name: state, dtype: object\n",
      "2002\n"
     ]
    }
   ],
   "source": [
    "#Slicing\n",
    "print(df['state'][3:])\n",
    "\n",
    "#indexação\n",
    "print(df['year'].iloc[(2)])\n"
   ]
  },
  {
   "cell_type": "markdown",
   "id": "d6653f5d",
   "metadata": {},
   "source": [
    "### Operações aritméticas e lógicas com Séries e DataFrame"
   ]
  },
  {
   "cell_type": "code",
   "execution_count": 21,
   "id": "2c445b3f",
   "metadata": {},
   "outputs": [
    {
     "name": "stdout",
     "output_type": "stream",
     "text": [
      "d     8\n",
      "b    14\n",
      "a   -10\n",
      "c     6\n",
      "dtype: int64\n",
      "d      54.598150\n",
      "b    1096.633158\n",
      "a       0.006738\n",
      "c      20.085537\n",
      "dtype: float64\n",
      "          state  year  pop\n",
      "0      OhioOhio  4000  3.0\n",
      "1      OhioOhio  4002  3.4\n",
      "2      OhioOhio  4004  7.2\n",
      "3  NevadaNevada  4002  4.8\n",
      "4  NevadaNevada  4004  5.8\n",
      "5  NevadaNevada  4006  6.4\n",
      "state    Nevada\n",
      "year       2000\n",
      "pop         1.5\n",
      "dtype: object\n",
      "state    Ohio\n",
      "year     2003\n",
      "pop       3.6\n",
      "dtype: object\n"
     ]
    }
   ],
   "source": [
    "#Series\n",
    "obj2 = pd.Series([4, 7, -5, 3], index=['d', 'b', 'a', 'c'])\n",
    "print(obj2 * 2)\n",
    "print(np.exp(obj2))\n",
    "\n",
    "#DataFrame\n",
    "df2 = df.copy()\n",
    "print(df2*2)\n",
    "print(df2.min())\n",
    "print(df2.max())"
   ]
  },
  {
   "cell_type": "markdown",
   "id": "5258021d",
   "metadata": {},
   "source": [
    "### Métodos de Preenchimento"
   ]
  },
  {
   "cell_type": "code",
   "execution_count": 34,
   "id": "2e37020f",
   "metadata": {},
   "outputs": [
    {
     "name": "stdout",
     "output_type": "stream",
     "text": [
      "==============================\n",
      "     a    b     c     d\n",
      "0  0.0  1.0   2.0   3.0\n",
      "1  4.0  5.0   6.0   7.0\n",
      "2  8.0  9.0  10.0  11.0\n",
      "      a     b     c     d     e\n",
      "0   0.0   1.0   2.0   3.0   4.0\n",
      "1   5.0   6.0   7.0   8.0   9.0\n",
      "2  10.0  11.0  12.0  13.0  14.0\n",
      "3  15.0  16.0  17.0  18.0  19.0\n",
      "==============================\n",
      "      a     b     c     d     e\n",
      "0   0.0   1.0   2.0   3.0   4.0\n",
      "1   5.0   NaN   7.0   8.0   9.0\n",
      "2  10.0  11.0  12.0  13.0  14.0\n",
      "3  15.0  16.0  17.0  18.0  19.0\n",
      "==============================\n",
      "df1 + df2:\n",
      "      a     b     c     d   e\n",
      "0   0.0   2.0   4.0   6.0 NaN\n",
      "1   9.0   NaN  13.0  15.0 NaN\n",
      "2  18.0  20.0  22.0  24.0 NaN\n",
      "3   NaN   NaN   NaN   NaN NaN\n"
     ]
    }
   ],
   "source": [
    "df1 = pd.DataFrame(np.arange(12.).reshape((3, 4)),columns=list('abcd'))\n",
    "df2 = pd.DataFrame(np.arange(20.).reshape((4, 5)),columns=list('abcde'))\n",
    "print('='*30)\n",
    "print(df1)\n",
    "print(df2)\n",
    "print('='*30)\n",
    "df2.loc[1,'b'] = np.nan\n",
    "print(df2)\n",
    "print('='*30)\n",
    "print('df1 + df2:')\n",
    "print(df1 + df2)"
   ]
  },
  {
   "cell_type": "markdown",
   "id": "18406385",
   "metadata": {},
   "source": [
    "### Ordenação e Classificação"
   ]
  },
  {
   "cell_type": "code",
   "execution_count": 38,
   "id": "71ba730d",
   "metadata": {},
   "outputs": [
    {
     "name": "stdout",
     "output_type": "stream",
     "text": [
      "d    0\n",
      "a    1\n",
      "b    2\n",
      "c    3\n",
      "dtype: int64\n",
      "==============================\n",
      "a    1\n",
      "b    2\n",
      "c    3\n",
      "d    0\n",
      "dtype: int64\n",
      "       d  a  b  c\n",
      "three  0  1  2  3\n",
      "one    4  5  6  7\n",
      "==============================\n",
      "       d  a  b  c\n",
      "one    4  5  6  7\n",
      "three  0  1  2  3\n",
      "==============================\n",
      "       a  b  c  d\n",
      "three  1  2  3  0\n",
      "one    5  6  7  4\n"
     ]
    }
   ],
   "source": [
    "obj = pd.Series(range(4), index=['d', 'a', 'b', 'c'])\n",
    "print(obj)\n",
    "print('='*30)\n",
    "print(obj.sort_index())\n",
    "\n",
    "\n",
    "frame = pd.DataFrame(np.arange(8).reshape((2, 4)),index=['three', 'one'],columns=['d', 'a', 'b', 'c'])\n",
    "print(frame)\n",
    "print('='*30)\n",
    "print(frame.sort_index())\n",
    "frame.sort_index(axis=1)\n",
    "print('='*30)\n",
    "print(frame.sort_index(axis=1))"
   ]
  },
  {
   "cell_type": "markdown",
   "id": "b1d8cbe1",
   "metadata": {},
   "source": [
    "### Funções estatísticas no pandas"
   ]
  },
  {
   "cell_type": "code",
   "execution_count": 40,
   "id": "85e76ee4",
   "metadata": {},
   "outputs": [
    {
     "name": "stdout",
     "output_type": "stream",
     "text": [
      "    one  two\n",
      "a  1.40  NaN\n",
      "b  7.10 -4.5\n",
      "c   NaN  NaN\n",
      "d  0.75 -1.3\n",
      "==============================\n",
      "one    9.25\n",
      "two   -5.80\n",
      "dtype: float64\n",
      "==============================\n",
      "a    1.40\n",
      "b    2.60\n",
      "c    0.00\n",
      "d   -0.55\n",
      "dtype: float64\n",
      "==============================\n",
      "one    7.1\n",
      "two   -1.3\n",
      "dtype: float64\n",
      "==============================\n",
      "one    0.75\n",
      "two   -4.50\n",
      "dtype: float64\n"
     ]
    }
   ],
   "source": [
    "df = pd.DataFrame([[1.4, np.nan], [7.1, -4.5],[np.nan, np.nan], [0.75, -1.3]],index=['a', 'b', 'c', 'd'],columns=['one', 'two'])\n",
    "print(df)\n",
    "print('='*30)\n",
    "#Somando colunas:\n",
    "print(df.sum())\n",
    "print('='*30)\n",
    "print(df.sum(axis='columns'))\n",
    "#máximo\n",
    "print('='*30)\n",
    "print(df.max())\n",
    "#mínimo\n",
    "print('='*30)\n",
    "print(df.min())"
   ]
  },
  {
   "cell_type": "code",
   "execution_count": null,
   "id": "7394d7b7",
   "metadata": {},
   "outputs": [],
   "source": []
  }
 ],
 "metadata": {
  "kernelspec": {
   "display_name": "Python 3 (ipykernel)",
   "language": "python",
   "name": "python3"
  },
  "language_info": {
   "codemirror_mode": {
    "name": "ipython",
    "version": 3
   },
   "file_extension": ".py",
   "mimetype": "text/x-python",
   "name": "python",
   "nbconvert_exporter": "python",
   "pygments_lexer": "ipython3",
   "version": "3.9.12"
  }
 },
 "nbformat": 4,
 "nbformat_minor": 5
}
