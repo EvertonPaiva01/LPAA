{
 "cells": [
  {
   "cell_type": "code",
   "execution_count": 1,
   "id": "bb0d6c49",
   "metadata": {},
   "outputs": [],
   "source": [
    "import numpy as np"
   ]
  },
  {
   "cell_type": "markdown",
   "id": "e352e3fa",
   "metadata": {},
   "source": [
    "### Construção de Array unidimensionais e multidimensionais"
   ]
  },
  {
   "cell_type": "code",
   "execution_count": 2,
   "id": "2e8ae3f7",
   "metadata": {},
   "outputs": [],
   "source": [
    "#Construção de Array Unidimensional:\n",
    "unid_array = np.arange(1,11)\n",
    "\n",
    "#Construção de Array Multidimensional:\n",
    "multd_array = np.array([np.arange(10),np.arange(11,21)])"
   ]
  },
  {
   "cell_type": "code",
   "execution_count": 3,
   "id": "cace3ca2",
   "metadata": {},
   "outputs": [
    {
     "data": {
      "text/plain": [
       "array([ 1,  2,  3,  4,  5,  6,  7,  8,  9, 10])"
      ]
     },
     "execution_count": 3,
     "metadata": {},
     "output_type": "execute_result"
    }
   ],
   "source": [
    "#print array Unidimensional:\n",
    "unid_array"
   ]
  },
  {
   "cell_type": "code",
   "execution_count": 4,
   "id": "29a75538",
   "metadata": {},
   "outputs": [
    {
     "data": {
      "text/plain": [
       "array([[ 0,  1,  2,  3,  4,  5,  6,  7,  8,  9],\n",
       "       [11, 12, 13, 14, 15, 16, 17, 18, 19, 20]])"
      ]
     },
     "execution_count": 4,
     "metadata": {},
     "output_type": "execute_result"
    }
   ],
   "source": [
    "#print array Multidimensional:\n",
    "multd_array"
   ]
  },
  {
   "cell_type": "markdown",
   "id": "1687c6b4",
   "metadata": {},
   "source": [
    "### Slicing e indexação"
   ]
  },
  {
   "cell_type": "code",
   "execution_count": 5,
   "id": "e69470c0",
   "metadata": {},
   "outputs": [
    {
     "name": "stdout",
     "output_type": "stream",
     "text": [
      "o primeiro elemento do array Unidimensional: 1\n",
      "\n",
      "os 3 ultimos elementos do array: [ 8  9 10]\n",
      "\n",
      "o primeiro elemento da linha e primeira coluna: 0\n",
      "\n",
      "os 3 ultimos elementos de cada linha:\n",
      " [[ 7  8  9]\n",
      " [18 19 20]]\n"
     ]
    }
   ],
   "source": [
    "# Array Unidimensional\n",
    "\n",
    "#pegando o primeiro elemento do array:\n",
    "print(f'o primeiro elemento do array Unidimensional: {unid_array[0]}')\n",
    "\n",
    "#pegando os 3 ultimos elementos do array:\n",
    "print(f'\\nos 3 ultimos elementos do array: {unid_array[-3:]}')\n",
    "\n",
    "# Array Multidimensional:\n",
    "\n",
    "#pegando o primeiro elemento da linha e primeira coluna:\n",
    "multd_array[0][0]\n",
    "print(f'\\no primeiro elemento da linha e primeira coluna: {multd_array[0][0]}')\n",
    "#pegando os 3 ultimos elementos de cada linha:\n",
    "multd_array[0:,7:]\n",
    "print(f'\\nos 3 ultimos elementos de cada linha:\\n {multd_array[0:,7:]}')"
   ]
  },
  {
   "cell_type": "markdown",
   "id": "5ba52bbf",
   "metadata": {},
   "source": [
    "### Operações com arrays (lógicas, aritméticas e algébricas)"
   ]
  },
  {
   "cell_type": "code",
   "execution_count": 7,
   "id": "c5d42909",
   "metadata": {},
   "outputs": [
    {
     "name": "stdout",
     "output_type": "stream",
     "text": [
      " unid_array * unid_array: [  1   4   9  16  25  36  49  64  81 100]\n",
      "\n",
      "multd_array * multd_array: [[  0   1   4   9  16  25  36  49  64  81]\n",
      " [121 144 169 196 225 256 289 324 361 400]]\n",
      "\n",
      " unid_array + unid_array: [ 2  4  6  8 10 12 14 16 18 20]\n",
      "\n",
      " multd_array + multd_array: [[ 0  2  4  6  8 10 12 14 16 18]\n",
      " [22 24 26 28 30 32 34 36 38 40]]\n",
      "\n",
      " unid_array - unid_array: [0 0 0 0 0 0 0 0 0 0]\n",
      "\n",
      " multd_array - multd_array: [[0 0 0 0 0 0 0 0 0 0]\n",
      " [0 0 0 0 0 0 0 0 0 0]]\n",
      "\n",
      " sqrt(unid_array) : [1.         1.41421356 1.73205081 2.         2.23606798 2.44948974\n",
      " 2.64575131 2.82842712 3.         3.16227766]\n",
      "\n",
      " sqrt(multd_array) : [[0.         1.         1.41421356 1.73205081 2.         2.23606798\n",
      "  2.44948974 2.64575131 2.82842712 3.        ]\n",
      " [3.31662479 3.46410162 3.60555128 3.74165739 3.87298335 4.\n",
      "  4.12310563 4.24264069 4.35889894 4.47213595]]\n",
      "\n"
     ]
    }
   ],
   "source": [
    "#Criando uma cópias dos arrays:\n",
    "_unid_array= unid_array.copy()\n",
    "_multd_array=multd_array.copy()\n",
    "\n",
    "#multiplicação:\n",
    "print(f' unid_array * unid_array: {_unid_array * _unid_array}\\n')\n",
    "print(f'multd_array * multd_array: {_multd_array * _multd_array}\\n')\n",
    "\n",
    "#soma:\n",
    "print(f' unid_array + unid_array: {_unid_array + _unid_array}\\n')\n",
    "print(f' multd_array + multd_array: {_multd_array + _multd_array}\\n')\n",
    "\n",
    "#Subtração:\n",
    "print(f' unid_array - unid_array: {_unid_array - _unid_array}\\n')\n",
    "print(f' multd_array - multd_array: {_multd_array - _multd_array}\\n')\n",
    "\n",
    "#Raiz quadrada:\n",
    "print(f' sqrt(unid_array) : {_unid_array**(1/2)}\\n')\n",
    "print(f' sqrt(multd_array) : {_multd_array**(1/2)}\\n')"
   ]
  },
  {
   "cell_type": "markdown",
   "id": "1d6a2fd7",
   "metadata": {},
   "source": [
    "### Principais métodos utilizados pelos objetos Numpy"
   ]
  },
  {
   "cell_type": "code",
   "execution_count": 8,
   "id": "872d0c4d",
   "metadata": {},
   "outputs": [
    {
     "name": "stdout",
     "output_type": "stream",
     "text": [
      "[0. 0. 0. 0. 0. 0. 0. 0. 0. 0.]\n",
      "[1. 1. 1. 1. 1. 1. 1. 1. 1. 1.]\n",
      "[1. 1. 1. 1. 1. 1. 1. 1. 1. 1.]\n"
     ]
    }
   ],
   "source": [
    "# cria um array com todos os elementos sendo 0\n",
    "print( np.zeros(10))\n",
    "\n",
    "# cria um array com todos os elementos sendo 1\n",
    "print( np.ones(10))\n",
    "\n",
    "# cria um array cujo conteúdo inicial é aleatório.\n",
    "print( np.empty(10))"
   ]
  },
  {
   "cell_type": "markdown",
   "id": "7a376635",
   "metadata": {},
   "source": [
    "### Funções universais e estatísticas com Numpy"
   ]
  },
  {
   "cell_type": "code",
   "execution_count": 10,
   "id": "92c135dc",
   "metadata": {},
   "outputs": [
    {
     "name": "stdout",
     "output_type": "stream",
     "text": [
      "[[ 1.13951041  1.46293531 -0.05370565 -0.97890888]\n",
      " [ 0.37697063  0.64703158 -0.87133592  0.74516674]\n",
      " [ 1.25813868  0.58474957  0.27020366 -0.33059844]\n",
      " [-0.34517862 -0.22980436  0.93340705  0.89834248]\n",
      " [-3.22872402  0.08269715  0.14451898  1.26662396]]\n",
      "\n",
      "Média do array : 0.1886020164947564\n",
      "\n",
      "Soma do array : 3.772040329895128\n",
      "\n",
      "Desvio padrão do array : 1.0386950678475646\n"
     ]
    }
   ],
   "source": [
    "e = np.random.randn(5, 4)\n",
    "print(e)\n",
    "\n",
    "# Média:\n",
    "print(f'\\nMédia do array : {e.mean()}')\n",
    "\n",
    "#soma:\n",
    "print(f'\\nSoma do array : {e.sum()}')\n",
    "\n",
    "#Desvio padrão:std\n",
    "print(f'\\nDesvio padrão do array : {e.std()}')\n"
   ]
  },
  {
   "cell_type": "code",
   "execution_count": 11,
   "id": "b43245b6",
   "metadata": {},
   "outputs": [],
   "source": [
    "import pandas as pd"
   ]
  },
  {
   "cell_type": "code",
   "execution_count": 12,
   "id": "21de8950",
   "metadata": {},
   "outputs": [],
   "source": [
    "#Data Frame\n",
    "data = {'state': ['Ohio', 'Ohio', 'Ohio', 'Nevada', 'Nevada', 'Nevada'],\n",
    "'year': [2000, 2001, 2002, 2001, 2002, 2003],\n",
    "'pop': [1.5, 1.7, 3.6, 2.4, 2.9, 3.2]}\n",
    "\n",
    "df = pd.DataFrame(data)"
   ]
  },
  {
   "cell_type": "code",
   "execution_count": 14,
   "id": "4eb17bff",
   "metadata": {},
   "outputs": [
    {
     "data": {
      "text/plain": [
       "0    4000\n",
       "1    4002\n",
       "2    4004\n",
       "3    4002\n",
       "4    4004\n",
       "5    4006\n",
       "Name: year, dtype: int64"
      ]
     },
     "execution_count": 14,
     "metadata": {},
     "output_type": "execute_result"
    }
   ],
   "source": [
    "df['year']*2"
   ]
  },
  {
   "cell_type": "code",
   "execution_count": 15,
   "id": "fd749792",
   "metadata": {},
   "outputs": [
    {
     "name": "stdout",
     "output_type": "stream",
     "text": [
      "d     8\n",
      "b    14\n",
      "a   -10\n",
      "c     6\n",
      "dtype: int64\n"
     ]
    }
   ],
   "source": [
    "obj2 = pd.Series([4, 7, -5, 3], index=['d', 'b', 'a', 'c'])\n",
    "print(obj2 * 2)"
   ]
  },
  {
   "cell_type": "code",
   "execution_count": 20,
   "id": "18a5baeb",
   "metadata": {},
   "outputs": [
    {
     "data": {
      "text/plain": [
       "state    Nevada\n",
       "year       2000\n",
       "pop         1.5\n",
       "dtype: object"
      ]
     },
     "execution_count": 20,
     "metadata": {},
     "output_type": "execute_result"
    }
   ],
   "source": [
    "df.min()"
   ]
  },
  {
   "cell_type": "code",
   "execution_count": null,
   "id": "d743a176",
   "metadata": {},
   "outputs": [],
   "source": []
  }
 ],
 "metadata": {
  "kernelspec": {
   "display_name": "Python 3 (ipykernel)",
   "language": "python",
   "name": "python3"
  },
  "language_info": {
   "codemirror_mode": {
    "name": "ipython",
    "version": 3
   },
   "file_extension": ".py",
   "mimetype": "text/x-python",
   "name": "python",
   "nbconvert_exporter": "python",
   "pygments_lexer": "ipython3",
   "version": "3.9.7"
  }
 },
 "nbformat": 4,
 "nbformat_minor": 5
}
