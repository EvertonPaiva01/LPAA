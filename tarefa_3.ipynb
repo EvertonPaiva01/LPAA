{
 "cells": [
  {
   "cell_type": "code",
   "execution_count": 97,
   "id": "97a9b8e2",
   "metadata": {},
   "outputs": [],
   "source": [
    "import pandas as pd\n",
    "import matplotlib.pyplot as plt\n",
    "import numpy as np"
   ]
  },
  {
   "cell_type": "markdown",
   "id": "829a90c8",
   "metadata": {},
   "source": [
    "### Leitura e Manipulação de arquivos em CSV, Excel e TXT"
   ]
  },
  {
   "cell_type": "code",
   "execution_count": 50,
   "id": "9eaa07c4",
   "metadata": {},
   "outputs": [],
   "source": [
    "#csv contendo os pontos de iluminação pública de Recife\n",
    "_csv = pd.read_csv(r'D:\\POLI - UPE\\2022.1\\LPAA\\Tarefa 3\\CADASTRO DE IP ABRIL 2022.csv',delimiter=';',low_memory=False)\n",
    "\n",
    "#Excel contendo as faturas de energia (conta de luz) paga pela EMLURB nos meses de Junho e Julho de 2022\n",
    "_excel = pd.read_excel(r'D:\\POLI - UPE\\2022.1\\LPAA\\Tarefa 3\\Dados Contas_Jun_e_Jul.xlsx')\n",
    "\n",
    "#TXT contendo a descrição da atividade - Só como exemplo\n",
    "_txt = pd.read_csv(r'D:\\POLI - UPE\\2022.1\\LPAA\\Tarefa 3\\conteudo_atv3.txt',delimiter=None)"
   ]
  },
  {
   "cell_type": "code",
   "execution_count": 51,
   "id": "0a12382a",
   "metadata": {
    "scrolled": true
   },
   "outputs": [
    {
     "data": {
      "text/html": [
       "<div>\n",
       "<style scoped>\n",
       "    .dataframe tbody tr th:only-of-type {\n",
       "        vertical-align: middle;\n",
       "    }\n",
       "\n",
       "    .dataframe tbody tr th {\n",
       "        vertical-align: top;\n",
       "    }\n",
       "\n",
       "    .dataframe thead th {\n",
       "        text-align: right;\n",
       "    }\n",
       "</style>\n",
       "<table border=\"1\" class=\"dataframe\">\n",
       "  <thead>\n",
       "    <tr style=\"text-align: right;\">\n",
       "      <th></th>\n",
       "      <th>Numero da Nota Fiscal</th>\n",
       "      <th>Conta Contrato</th>\n",
       "      <th>Numero da Instalacao</th>\n",
       "      <th>Data de Vencimento</th>\n",
       "      <th>Classificacao</th>\n",
       "      <th>Total a Pagar (R$)</th>\n",
       "      <th>Consumo (kwh)</th>\n",
       "      <th>Padrao de Entrada</th>\n",
       "      <th>Bandeira Amarela</th>\n",
       "      <th>Bandeira Vermelha</th>\n",
       "      <th>...</th>\n",
       "      <th>Imposto COFIS</th>\n",
       "      <th>Num Medidor</th>\n",
       "      <th>Funcao</th>\n",
       "      <th>Data Anteriror</th>\n",
       "      <th>Leitura Ant.</th>\n",
       "      <th>Data Atual</th>\n",
       "      <th>Leitura Atual</th>\n",
       "      <th>Num de Dias</th>\n",
       "      <th>Constante</th>\n",
       "      <th>CAT(kwh)</th>\n",
       "    </tr>\n",
       "  </thead>\n",
       "  <tbody>\n",
       "    <tr>\n",
       "      <th>0</th>\n",
       "      <td>25664393</td>\n",
       "      <td>7026631500</td>\n",
       "      <td>6490294</td>\n",
       "      <td>2018-08-09</td>\n",
       "      <td>B4a</td>\n",
       "      <td>0.00</td>\n",
       "      <td>0.00</td>\n",
       "      <td>Monofasico</td>\n",
       "      <td>0.0</td>\n",
       "      <td>28.65</td>\n",
       "      <td>...</td>\n",
       "      <td>8.26</td>\n",
       "      <td>NaN</td>\n",
       "      <td>NaN</td>\n",
       "      <td>NaT</td>\n",
       "      <td>NaN</td>\n",
       "      <td>NaT</td>\n",
       "      <td>NaN</td>\n",
       "      <td>NaN</td>\n",
       "      <td>NaN</td>\n",
       "      <td>NaN</td>\n",
       "    </tr>\n",
       "    <tr>\n",
       "      <th>1</th>\n",
       "      <td>102361956</td>\n",
       "      <td>7028645150</td>\n",
       "      <td>6597075</td>\n",
       "      <td>2020-04-17</td>\n",
       "      <td>B4a</td>\n",
       "      <td>108.94</td>\n",
       "      <td>1006.00</td>\n",
       "      <td>Trifasico</td>\n",
       "      <td>0.0</td>\n",
       "      <td>0.00</td>\n",
       "      <td>...</td>\n",
       "      <td>21.04</td>\n",
       "      <td>3181693834</td>\n",
       "      <td>CAT</td>\n",
       "      <td>2020-02-19</td>\n",
       "      <td>210.0</td>\n",
       "      <td>2020-03-20</td>\n",
       "      <td>10610.0</td>\n",
       "      <td>30.0</td>\n",
       "      <td>1.0</td>\n",
       "      <td>1006.0</td>\n",
       "    </tr>\n",
       "    <tr>\n",
       "      <th>2</th>\n",
       "      <td>102361957</td>\n",
       "      <td>7028645966</td>\n",
       "      <td>6597107</td>\n",
       "      <td>2020-04-17</td>\n",
       "      <td>B4a</td>\n",
       "      <td>75.25</td>\n",
       "      <td>1617.00</td>\n",
       "      <td>Trifasico</td>\n",
       "      <td>0.0</td>\n",
       "      <td>0.00</td>\n",
       "      <td>...</td>\n",
       "      <td>33.83</td>\n",
       "      <td>3181693591</td>\n",
       "      <td>CAT</td>\n",
       "      <td>2020-02-19</td>\n",
       "      <td>390.0</td>\n",
       "      <td>2020-03-20</td>\n",
       "      <td>17715.0</td>\n",
       "      <td>30.0</td>\n",
       "      <td>1.0</td>\n",
       "      <td>1617.0</td>\n",
       "    </tr>\n",
       "    <tr>\n",
       "      <th>3</th>\n",
       "      <td>30029153</td>\n",
       "      <td>7022616760</td>\n",
       "      <td>5872406</td>\n",
       "      <td>2018-09-28</td>\n",
       "      <td>B4a</td>\n",
       "      <td>118.84</td>\n",
       "      <td>5.75</td>\n",
       "      <td>Trifasico</td>\n",
       "      <td>0.0</td>\n",
       "      <td>230.41</td>\n",
       "      <td>...</td>\n",
       "      <td>97.02</td>\n",
       "      <td>NaN</td>\n",
       "      <td>NaN</td>\n",
       "      <td>NaT</td>\n",
       "      <td>NaN</td>\n",
       "      <td>NaT</td>\n",
       "      <td>NaN</td>\n",
       "      <td>NaN</td>\n",
       "      <td>NaN</td>\n",
       "      <td>NaN</td>\n",
       "    </tr>\n",
       "    <tr>\n",
       "      <th>4</th>\n",
       "      <td>1891868</td>\n",
       "      <td>7026631500</td>\n",
       "      <td>6490294</td>\n",
       "      <td>2017-12-11</td>\n",
       "      <td>B4a</td>\n",
       "      <td>0.00</td>\n",
       "      <td>0.00</td>\n",
       "      <td>Monofasico</td>\n",
       "      <td>0.0</td>\n",
       "      <td>29.11</td>\n",
       "      <td>...</td>\n",
       "      <td>10.24</td>\n",
       "      <td>NaN</td>\n",
       "      <td>NaN</td>\n",
       "      <td>NaT</td>\n",
       "      <td>NaN</td>\n",
       "      <td>NaT</td>\n",
       "      <td>NaN</td>\n",
       "      <td>NaN</td>\n",
       "      <td>NaN</td>\n",
       "      <td>NaN</td>\n",
       "    </tr>\n",
       "  </tbody>\n",
       "</table>\n",
       "<p>5 rows × 28 columns</p>\n",
       "</div>"
      ],
      "text/plain": [
       "   Numero da Nota Fiscal  Conta Contrato  Numero da Instalacao  \\\n",
       "0               25664393      7026631500               6490294   \n",
       "1              102361956      7028645150               6597075   \n",
       "2              102361957      7028645966               6597107   \n",
       "3               30029153      7022616760               5872406   \n",
       "4                1891868      7026631500               6490294   \n",
       "\n",
       "  Data de Vencimento Classificacao  Total a Pagar (R$)  Consumo (kwh)  \\\n",
       "0         2018-08-09           B4a                0.00           0.00   \n",
       "1         2020-04-17           B4a              108.94        1006.00   \n",
       "2         2020-04-17           B4a               75.25        1617.00   \n",
       "3         2018-09-28           B4a              118.84           5.75   \n",
       "4         2017-12-11           B4a                0.00           0.00   \n",
       "\n",
       "  Padrao de Entrada  Bandeira Amarela  Bandeira Vermelha  ...  Imposto COFIS  \\\n",
       "0        Monofasico               0.0              28.65  ...           8.26   \n",
       "1         Trifasico               0.0               0.00  ...          21.04   \n",
       "2         Trifasico               0.0               0.00  ...          33.83   \n",
       "3         Trifasico               0.0             230.41  ...          97.02   \n",
       "4        Monofasico               0.0              29.11  ...          10.24   \n",
       "\n",
       "   Num Medidor  Funcao  Data Anteriror  Leitura Ant.  Data Atual  \\\n",
       "0          NaN     NaN             NaT           NaN         NaT   \n",
       "1   3181693834     CAT      2020-02-19         210.0  2020-03-20   \n",
       "2   3181693591     CAT      2020-02-19         390.0  2020-03-20   \n",
       "3          NaN     NaN             NaT           NaN         NaT   \n",
       "4          NaN     NaN             NaT           NaN         NaT   \n",
       "\n",
       "   Leitura Atual  Num de Dias  Constante CAT(kwh)  \n",
       "0            NaN          NaN        NaN      NaN  \n",
       "1        10610.0         30.0        1.0   1006.0  \n",
       "2        17715.0         30.0        1.0   1617.0  \n",
       "3            NaN          NaN        NaN      NaN  \n",
       "4            NaN          NaN        NaN      NaN  \n",
       "\n",
       "[5 rows x 28 columns]"
      ]
     },
     "execution_count": 51,
     "metadata": {},
     "output_type": "execute_result"
    }
   ],
   "source": [
    "_excel.head() #Dados de faturas referentes à conta de energia elétrica pagas pela EMLURB"
   ]
  },
  {
   "cell_type": "code",
   "execution_count": 78,
   "id": "9c63f4bb",
   "metadata": {},
   "outputs": [
    {
     "data": {
      "text/html": [
       "<div>\n",
       "<style scoped>\n",
       "    .dataframe tbody tr th:only-of-type {\n",
       "        vertical-align: middle;\n",
       "    }\n",
       "\n",
       "    .dataframe tbody tr th {\n",
       "        vertical-align: top;\n",
       "    }\n",
       "\n",
       "    .dataframe thead th {\n",
       "        text-align: right;\n",
       "    }\n",
       "</style>\n",
       "<table border=\"1\" class=\"dataframe\">\n",
       "  <thead>\n",
       "    <tr style=\"text-align: right;\">\n",
       "      <th></th>\n",
       "      <th>Numero da Nota Fiscal</th>\n",
       "      <th>Conta Contrato</th>\n",
       "      <th>Numero da Instalacao</th>\n",
       "      <th>Data de Vencimento</th>\n",
       "      <th>Classificacao</th>\n",
       "      <th>Total a Pagar (R$)</th>\n",
       "      <th>Consumo (kwh)</th>\n",
       "      <th>Padrao de Entrada</th>\n",
       "      <th>Bandeira Amarela</th>\n",
       "      <th>Bandeira Vermelha</th>\n",
       "      <th>...</th>\n",
       "      <th>Imposto COFIS</th>\n",
       "      <th>Num Medidor</th>\n",
       "      <th>Funcao</th>\n",
       "      <th>Data Anteriror</th>\n",
       "      <th>Leitura Ant.</th>\n",
       "      <th>Data Atual</th>\n",
       "      <th>Leitura Atual</th>\n",
       "      <th>Num de Dias</th>\n",
       "      <th>Constante</th>\n",
       "      <th>CAT(kwh)</th>\n",
       "    </tr>\n",
       "  </thead>\n",
       "  <tbody>\n",
       "    <tr>\n",
       "      <th>1601</th>\n",
       "      <td>110476645</td>\n",
       "      <td>7022275784</td>\n",
       "      <td>6253497</td>\n",
       "      <td>2020-06-26</td>\n",
       "      <td>B4a</td>\n",
       "      <td>3907.45</td>\n",
       "      <td>9014.0</td>\n",
       "      <td>Trifasico</td>\n",
       "      <td>0.0</td>\n",
       "      <td>0.0</td>\n",
       "      <td>...</td>\n",
       "      <td>158.23</td>\n",
       "      <td>3160004290</td>\n",
       "      <td>CAT</td>\n",
       "      <td>2020-04-02</td>\n",
       "      <td>99807.0</td>\n",
       "      <td>2020-05-05</td>\n",
       "      <td>108821.0</td>\n",
       "      <td>33.0</td>\n",
       "      <td>1.0</td>\n",
       "      <td>9014.0</td>\n",
       "    </tr>\n",
       "  </tbody>\n",
       "</table>\n",
       "<p>1 rows × 28 columns</p>\n",
       "</div>"
      ],
      "text/plain": [
       "      Numero da Nota Fiscal  Conta Contrato  Numero da Instalacao  \\\n",
       "1601              110476645      7022275784               6253497   \n",
       "\n",
       "     Data de Vencimento Classificacao  Total a Pagar (R$)  Consumo (kwh)  \\\n",
       "1601         2020-06-26           B4a             3907.45         9014.0   \n",
       "\n",
       "     Padrao de Entrada  Bandeira Amarela  Bandeira Vermelha  ...  \\\n",
       "1601         Trifasico               0.0                0.0  ...   \n",
       "\n",
       "      Imposto COFIS  Num Medidor  Funcao  Data Anteriror  Leitura Ant.  \\\n",
       "1601         158.23   3160004290     CAT      2020-04-02       99807.0   \n",
       "\n",
       "      Data Atual  Leitura Atual  Num de Dias  Constante CAT(kwh)  \n",
       "1601  2020-05-05       108821.0         33.0        1.0   9014.0  \n",
       "\n",
       "[1 rows x 28 columns]"
      ]
     },
     "execution_count": 78,
     "metadata": {},
     "output_type": "execute_result"
    },
    {
     "data": {
      "image/png": "[encoded data removed]",
      "text/plain": [
       "<Figure size 432x288 with 1 Axes>"
      ]
     },
     "metadata": {
      "needs_background": "light"
     },
     "output_type": "display_data"
    }
   ],
   "source": [
    "# Gráfico dos valores a serem pagos em cada conta\n",
    "_excel['Total a Pagar (R$)'].plot()\n",
    "\n",
    "# Maior valor da fatura\n",
    "Maio_valor = _excel['Total a Pagar (R$)'].max()\n",
    "\n",
    "# Número da nota fiscal associado ao maior valor a ser pago\n",
    "ID_conta = _excel['Numero da Nota Fiscal'][_excel['Total a Pagar (R$)'] == _excel['Total a Pagar (R$)'].max()].values\n",
    "\n",
    "# Texto que será mostrado no gráfico\n",
    "Text = \"Valor máximo : R$\" + str(MaxValue) + \" - \" + \"Conta:\" + str(MaxName)\n",
    "\n",
    "# Colocando o texto no gráfico\n",
    "plt.annotate(Text, xy=(1, MaxValue), \n",
    "                   xytext=(25, 0), \n",
    "                   xycoords=('axes fraction', 'data'), \n",
    "                   textcoords='offset points',\n",
    "                   arrowprops=dict(arrowstyle='-|>'))\n",
    "\n",
    "\n",
    "_excel[_excel['Total a Pagar (R$)'] == _excel['Total a Pagar (R$)'].max()]"
   ]
  },
  {
   "cell_type": "markdown",
   "id": "57e4f14b",
   "metadata": {},
   "source": [
    "### Tratamento e filtragem de dados ausentes"
   ]
  },
  {
   "cell_type": "code",
   "execution_count": 79,
   "id": "aadca27e",
   "metadata": {},
   "outputs": [],
   "source": [
    " from numpy import nan as NA"
   ]
  },
  {
   "cell_type": "code",
   "execution_count": 92,
   "id": "e7e5e464",
   "metadata": {},
   "outputs": [],
   "source": [
    "data = pd.Series([1, NA, 3.5, NA, 7])"
   ]
  },
  {
   "cell_type": "code",
   "execution_count": 93,
   "id": "1a171611",
   "metadata": {},
   "outputs": [
    {
     "data": {
      "text/plain": [
       "0    1.0\n",
       "1    NaN\n",
       "2    3.5\n",
       "3    NaN\n",
       "4    7.0\n",
       "dtype: float64"
      ]
     },
     "execution_count": 93,
     "metadata": {},
     "output_type": "execute_result"
    }
   ],
   "source": [
    "data"
   ]
  },
  {
   "cell_type": "code",
   "execution_count": 94,
   "id": "5a65b378",
   "metadata": {},
   "outputs": [
    {
     "data": {
      "text/plain": [
       "0    1.0\n",
       "2    3.5\n",
       "4    7.0\n",
       "dtype: float64"
      ]
     },
     "execution_count": 94,
     "metadata": {},
     "output_type": "execute_result"
    }
   ],
   "source": [
    "#Remove NaN\n",
    "data.dropna()"
   ]
  },
  {
   "cell_type": "markdown",
   "id": "76ad2aaf",
   "metadata": {},
   "source": [
    "###  Preenchimento de dados ausentes"
   ]
  },
  {
   "cell_type": "code",
   "execution_count": 98,
   "id": "bb75bfbd",
   "metadata": {},
   "outputs": [],
   "source": [
    "df = pd.DataFrame(np.random.randn(7, 3))"
   ]
  },
  {
   "cell_type": "code",
   "execution_count": 99,
   "id": "61624a83",
   "metadata": {},
   "outputs": [
    {
     "data": {
      "text/html": [
       "<div>\n",
       "<style scoped>\n",
       "    .dataframe tbody tr th:only-of-type {\n",
       "        vertical-align: middle;\n",
       "    }\n",
       "\n",
       "    .dataframe tbody tr th {\n",
       "        vertical-align: top;\n",
       "    }\n",
       "\n",
       "    .dataframe thead th {\n",
       "        text-align: right;\n",
       "    }\n",
       "</style>\n",
       "<table border=\"1\" class=\"dataframe\">\n",
       "  <thead>\n",
       "    <tr style=\"text-align: right;\">\n",
       "      <th></th>\n",
       "      <th>0</th>\n",
       "      <th>1</th>\n",
       "      <th>2</th>\n",
       "    </tr>\n",
       "  </thead>\n",
       "  <tbody>\n",
       "    <tr>\n",
       "      <th>0</th>\n",
       "      <td>-0.164194</td>\n",
       "      <td>1.836048</td>\n",
       "      <td>-0.316119</td>\n",
       "    </tr>\n",
       "    <tr>\n",
       "      <th>1</th>\n",
       "      <td>0.558941</td>\n",
       "      <td>-0.863507</td>\n",
       "      <td>0.269107</td>\n",
       "    </tr>\n",
       "    <tr>\n",
       "      <th>2</th>\n",
       "      <td>0.661645</td>\n",
       "      <td>-0.582333</td>\n",
       "      <td>-0.412670</td>\n",
       "    </tr>\n",
       "    <tr>\n",
       "      <th>3</th>\n",
       "      <td>-0.158654</td>\n",
       "      <td>0.964459</td>\n",
       "      <td>0.015258</td>\n",
       "    </tr>\n",
       "    <tr>\n",
       "      <th>4</th>\n",
       "      <td>-1.039682</td>\n",
       "      <td>-0.479898</td>\n",
       "      <td>-1.056085</td>\n",
       "    </tr>\n",
       "    <tr>\n",
       "      <th>5</th>\n",
       "      <td>-0.225200</td>\n",
       "      <td>0.843079</td>\n",
       "      <td>-0.050961</td>\n",
       "    </tr>\n",
       "    <tr>\n",
       "      <th>6</th>\n",
       "      <td>0.273239</td>\n",
       "      <td>-1.063197</td>\n",
       "      <td>-1.118911</td>\n",
       "    </tr>\n",
       "  </tbody>\n",
       "</table>\n",
       "</div>"
      ],
      "text/plain": [
       "          0         1         2\n",
       "0 -0.164194  1.836048 -0.316119\n",
       "1  0.558941 -0.863507  0.269107\n",
       "2  0.661645 -0.582333 -0.412670\n",
       "3 -0.158654  0.964459  0.015258\n",
       "4 -1.039682 -0.479898 -1.056085\n",
       "5 -0.225200  0.843079 -0.050961\n",
       "6  0.273239 -1.063197 -1.118911"
      ]
     },
     "execution_count": 99,
     "metadata": {},
     "output_type": "execute_result"
    }
   ],
   "source": [
    "df"
   ]
  },
  {
   "cell_type": "code",
   "execution_count": 100,
   "id": "9583c808",
   "metadata": {},
   "outputs": [],
   "source": [
    "# Adicionando \"valores\" NA no dataframe\n",
    "df.iloc[:4, 1] = NA\n",
    "df.iloc[:2, 2] = NA\n"
   ]
  },
  {
   "cell_type": "code",
   "execution_count": 101,
   "id": "f2865a3a",
   "metadata": {},
   "outputs": [
    {
     "data": {
      "text/html": [
       "<div>\n",
       "<style scoped>\n",
       "    .dataframe tbody tr th:only-of-type {\n",
       "        vertical-align: middle;\n",
       "    }\n",
       "\n",
       "    .dataframe tbody tr th {\n",
       "        vertical-align: top;\n",
       "    }\n",
       "\n",
       "    .dataframe thead th {\n",
       "        text-align: right;\n",
       "    }\n",
       "</style>\n",
       "<table border=\"1\" class=\"dataframe\">\n",
       "  <thead>\n",
       "    <tr style=\"text-align: right;\">\n",
       "      <th></th>\n",
       "      <th>0</th>\n",
       "      <th>1</th>\n",
       "      <th>2</th>\n",
       "    </tr>\n",
       "  </thead>\n",
       "  <tbody>\n",
       "    <tr>\n",
       "      <th>0</th>\n",
       "      <td>-0.164194</td>\n",
       "      <td>NaN</td>\n",
       "      <td>NaN</td>\n",
       "    </tr>\n",
       "    <tr>\n",
       "      <th>1</th>\n",
       "      <td>0.558941</td>\n",
       "      <td>NaN</td>\n",
       "      <td>NaN</td>\n",
       "    </tr>\n",
       "    <tr>\n",
       "      <th>2</th>\n",
       "      <td>0.661645</td>\n",
       "      <td>NaN</td>\n",
       "      <td>-0.412670</td>\n",
       "    </tr>\n",
       "    <tr>\n",
       "      <th>3</th>\n",
       "      <td>-0.158654</td>\n",
       "      <td>NaN</td>\n",
       "      <td>0.015258</td>\n",
       "    </tr>\n",
       "    <tr>\n",
       "      <th>4</th>\n",
       "      <td>-1.039682</td>\n",
       "      <td>-0.479898</td>\n",
       "      <td>-1.056085</td>\n",
       "    </tr>\n",
       "    <tr>\n",
       "      <th>5</th>\n",
       "      <td>-0.225200</td>\n",
       "      <td>0.843079</td>\n",
       "      <td>-0.050961</td>\n",
       "    </tr>\n",
       "    <tr>\n",
       "      <th>6</th>\n",
       "      <td>0.273239</td>\n",
       "      <td>-1.063197</td>\n",
       "      <td>-1.118911</td>\n",
       "    </tr>\n",
       "  </tbody>\n",
       "</table>\n",
       "</div>"
      ],
      "text/plain": [
       "          0         1         2\n",
       "0 -0.164194       NaN       NaN\n",
       "1  0.558941       NaN       NaN\n",
       "2  0.661645       NaN -0.412670\n",
       "3 -0.158654       NaN  0.015258\n",
       "4 -1.039682 -0.479898 -1.056085\n",
       "5 -0.225200  0.843079 -0.050961\n",
       "6  0.273239 -1.063197 -1.118911"
      ]
     },
     "execution_count": 101,
     "metadata": {},
     "output_type": "execute_result"
    }
   ],
   "source": [
    "df"
   ]
  },
  {
   "cell_type": "code",
   "execution_count": 102,
   "id": "a221c341",
   "metadata": {},
   "outputs": [
    {
     "data": {
      "text/html": [
       "<div>\n",
       "<style scoped>\n",
       "    .dataframe tbody tr th:only-of-type {\n",
       "        vertical-align: middle;\n",
       "    }\n",
       "\n",
       "    .dataframe tbody tr th {\n",
       "        vertical-align: top;\n",
       "    }\n",
       "\n",
       "    .dataframe thead th {\n",
       "        text-align: right;\n",
       "    }\n",
       "</style>\n",
       "<table border=\"1\" class=\"dataframe\">\n",
       "  <thead>\n",
       "    <tr style=\"text-align: right;\">\n",
       "      <th></th>\n",
       "      <th>0</th>\n",
       "      <th>1</th>\n",
       "      <th>2</th>\n",
       "    </tr>\n",
       "  </thead>\n",
       "  <tbody>\n",
       "    <tr>\n",
       "      <th>0</th>\n",
       "      <td>-0.164194</td>\n",
       "      <td>0.000000</td>\n",
       "      <td>0.000000</td>\n",
       "    </tr>\n",
       "    <tr>\n",
       "      <th>1</th>\n",
       "      <td>0.558941</td>\n",
       "      <td>0.000000</td>\n",
       "      <td>0.000000</td>\n",
       "    </tr>\n",
       "    <tr>\n",
       "      <th>2</th>\n",
       "      <td>0.661645</td>\n",
       "      <td>0.000000</td>\n",
       "      <td>-0.412670</td>\n",
       "    </tr>\n",
       "    <tr>\n",
       "      <th>3</th>\n",
       "      <td>-0.158654</td>\n",
       "      <td>0.000000</td>\n",
       "      <td>0.015258</td>\n",
       "    </tr>\n",
       "    <tr>\n",
       "      <th>4</th>\n",
       "      <td>-1.039682</td>\n",
       "      <td>-0.479898</td>\n",
       "      <td>-1.056085</td>\n",
       "    </tr>\n",
       "    <tr>\n",
       "      <th>5</th>\n",
       "      <td>-0.225200</td>\n",
       "      <td>0.843079</td>\n",
       "      <td>-0.050961</td>\n",
       "    </tr>\n",
       "    <tr>\n",
       "      <th>6</th>\n",
       "      <td>0.273239</td>\n",
       "      <td>-1.063197</td>\n",
       "      <td>-1.118911</td>\n",
       "    </tr>\n",
       "  </tbody>\n",
       "</table>\n",
       "</div>"
      ],
      "text/plain": [
       "          0         1         2\n",
       "0 -0.164194  0.000000  0.000000\n",
       "1  0.558941  0.000000  0.000000\n",
       "2  0.661645  0.000000 -0.412670\n",
       "3 -0.158654  0.000000  0.015258\n",
       "4 -1.039682 -0.479898 -1.056085\n",
       "5 -0.225200  0.843079 -0.050961\n",
       "6  0.273239 -1.063197 -1.118911"
      ]
     },
     "execution_count": 102,
     "metadata": {},
     "output_type": "execute_result"
    }
   ],
   "source": [
    "#Substituindo valores ausentes por 0\n",
    "df.fillna(0)"
   ]
  },
  {
   "cell_type": "markdown",
   "id": "29df2829",
   "metadata": {},
   "source": [
    "##       Transformação de dados\n",
    "###   Remoção de duplicatas"
   ]
  },
  {
   "cell_type": "code",
   "execution_count": 103,
   "id": "1a4038d3",
   "metadata": {},
   "outputs": [],
   "source": [
    "data = pd.DataFrame({'k1': ['one', 'two'] * 3 + ['two'], 'k2': [1, 1, 2, 3, 3, 4, 4]})"
   ]
  },
  {
   "cell_type": "code",
   "execution_count": 104,
   "id": "12763e80",
   "metadata": {},
   "outputs": [
    {
     "data": {
      "text/html": [
       "<div>\n",
       "<style scoped>\n",
       "    .dataframe tbody tr th:only-of-type {\n",
       "        vertical-align: middle;\n",
       "    }\n",
       "\n",
       "    .dataframe tbody tr th {\n",
       "        vertical-align: top;\n",
       "    }\n",
       "\n",
       "    .dataframe thead th {\n",
       "        text-align: right;\n",
       "    }\n",
       "</style>\n",
       "<table border=\"1\" class=\"dataframe\">\n",
       "  <thead>\n",
       "    <tr style=\"text-align: right;\">\n",
       "      <th></th>\n",
       "      <th>k1</th>\n",
       "      <th>k2</th>\n",
       "    </tr>\n",
       "  </thead>\n",
       "  <tbody>\n",
       "    <tr>\n",
       "      <th>0</th>\n",
       "      <td>one</td>\n",
       "      <td>1</td>\n",
       "    </tr>\n",
       "    <tr>\n",
       "      <th>1</th>\n",
       "      <td>two</td>\n",
       "      <td>1</td>\n",
       "    </tr>\n",
       "    <tr>\n",
       "      <th>2</th>\n",
       "      <td>one</td>\n",
       "      <td>2</td>\n",
       "    </tr>\n",
       "    <tr>\n",
       "      <th>3</th>\n",
       "      <td>two</td>\n",
       "      <td>3</td>\n",
       "    </tr>\n",
       "    <tr>\n",
       "      <th>4</th>\n",
       "      <td>one</td>\n",
       "      <td>3</td>\n",
       "    </tr>\n",
       "    <tr>\n",
       "      <th>5</th>\n",
       "      <td>two</td>\n",
       "      <td>4</td>\n",
       "    </tr>\n",
       "    <tr>\n",
       "      <th>6</th>\n",
       "      <td>two</td>\n",
       "      <td>4</td>\n",
       "    </tr>\n",
       "  </tbody>\n",
       "</table>\n",
       "</div>"
      ],
      "text/plain": [
       "    k1  k2\n",
       "0  one   1\n",
       "1  two   1\n",
       "2  one   2\n",
       "3  two   3\n",
       "4  one   3\n",
       "5  two   4\n",
       "6  two   4"
      ]
     },
     "execution_count": 104,
     "metadata": {},
     "output_type": "execute_result"
    }
   ],
   "source": [
    "data"
   ]
  },
  {
   "cell_type": "code",
   "execution_count": 115,
   "id": "d58b6dde",
   "metadata": {},
   "outputs": [
    {
     "data": {
      "text/plain": [
       "0    False\n",
       "1    False\n",
       "2    False\n",
       "3    False\n",
       "4    False\n",
       "5    False\n",
       "6     True\n",
       "dtype: bool"
      ]
     },
     "execution_count": 115,
     "metadata": {},
     "output_type": "execute_result"
    }
   ],
   "source": [
    "#verificando arquivos duplicados\n",
    "data.duplicated()"
   ]
  },
  {
   "cell_type": "code",
   "execution_count": 118,
   "id": "c83dfe0e",
   "metadata": {
    "scrolled": true
   },
   "outputs": [
    {
     "data": {
      "text/html": [
       "<div>\n",
       "<style scoped>\n",
       "    .dataframe tbody tr th:only-of-type {\n",
       "        vertical-align: middle;\n",
       "    }\n",
       "\n",
       "    .dataframe tbody tr th {\n",
       "        vertical-align: top;\n",
       "    }\n",
       "\n",
       "    .dataframe thead th {\n",
       "        text-align: right;\n",
       "    }\n",
       "</style>\n",
       "<table border=\"1\" class=\"dataframe\">\n",
       "  <thead>\n",
       "    <tr style=\"text-align: right;\">\n",
       "      <th></th>\n",
       "      <th>k1</th>\n",
       "      <th>k2</th>\n",
       "    </tr>\n",
       "  </thead>\n",
       "  <tbody>\n",
       "    <tr>\n",
       "      <th>0</th>\n",
       "      <td>one</td>\n",
       "      <td>1</td>\n",
       "    </tr>\n",
       "    <tr>\n",
       "      <th>1</th>\n",
       "      <td>two</td>\n",
       "      <td>1</td>\n",
       "    </tr>\n",
       "    <tr>\n",
       "      <th>2</th>\n",
       "      <td>one</td>\n",
       "      <td>2</td>\n",
       "    </tr>\n",
       "    <tr>\n",
       "      <th>3</th>\n",
       "      <td>two</td>\n",
       "      <td>3</td>\n",
       "    </tr>\n",
       "    <tr>\n",
       "      <th>4</th>\n",
       "      <td>one</td>\n",
       "      <td>3</td>\n",
       "    </tr>\n",
       "    <tr>\n",
       "      <th>5</th>\n",
       "      <td>two</td>\n",
       "      <td>4</td>\n",
       "    </tr>\n",
       "  </tbody>\n",
       "</table>\n",
       "</div>"
      ],
      "text/plain": [
       "    k1  k2\n",
       "0  one   1\n",
       "1  two   1\n",
       "2  one   2\n",
       "3  two   3\n",
       "4  one   3\n",
       "5  two   4"
      ]
     },
     "execution_count": 118,
     "metadata": {},
     "output_type": "execute_result"
    }
   ],
   "source": [
    "#Revmovendo duplicados\n",
    "data.drop_duplicates()"
   ]
  },
  {
   "cell_type": "code",
   "execution_count": 120,
   "id": "e3d461a5",
   "metadata": {},
   "outputs": [
    {
     "data": {
      "text/plain": [
       "0         False\n",
       "1         False\n",
       "2          True\n",
       "3         False\n",
       "4         False\n",
       "          ...  \n",
       "105972     True\n",
       "105973    False\n",
       "105974    False\n",
       "105975    False\n",
       "105976    False\n",
       "Length: 105977, dtype: bool"
      ]
     },
     "execution_count": 120,
     "metadata": {},
     "output_type": "execute_result"
    }
   ],
   "source": [
    "#verificando arquivos duplicados do arquivo csv\n",
    "_csv.duplicated()"
   ]
  },
  {
   "cell_type": "code",
   "execution_count": 122,
   "id": "ee4f3633",
   "metadata": {
    "scrolled": true
   },
   "outputs": [
    {
     "data": {
      "text/plain": [
       "94085"
      ]
     },
     "execution_count": 122,
     "metadata": {},
     "output_type": "execute_result"
    }
   ],
   "source": [
    "#Revmovendo duplicados do arquivo csv\n",
    "len(_csv.drop_duplicates())"
   ]
  },
  {
   "cell_type": "markdown",
   "id": "a17fa00e",
   "metadata": {},
   "source": [
    "###### Podemos observar a diferença no tamanho do csv com e sem duplicatas. Ao total foram removidas 11.892 linhas duplicadas"
   ]
  },
  {
   "cell_type": "markdown",
   "id": "8fae8a5f",
   "metadata": {},
   "source": [
    "### Renomeando os índices dos eixos"
   ]
  },
  {
   "cell_type": "code",
   "execution_count": 123,
   "id": "f8836757",
   "metadata": {},
   "outputs": [
    {
     "data": {
      "text/html": [
       "<div>\n",
       "<style scoped>\n",
       "    .dataframe tbody tr th:only-of-type {\n",
       "        vertical-align: middle;\n",
       "    }\n",
       "\n",
       "    .dataframe tbody tr th {\n",
       "        vertical-align: top;\n",
       "    }\n",
       "\n",
       "    .dataframe thead th {\n",
       "        text-align: right;\n",
       "    }\n",
       "</style>\n",
       "<table border=\"1\" class=\"dataframe\">\n",
       "  <thead>\n",
       "    <tr style=\"text-align: right;\">\n",
       "      <th></th>\n",
       "      <th>Texto contendo o conteúdo da atividade 3</th>\n",
       "    </tr>\n",
       "  </thead>\n",
       "  <tbody>\n",
       "    <tr>\n",
       "      <th>0</th>\n",
       "      <td>Leitura e Manipulação de arquivos em CSV Excel...</td>\n",
       "    </tr>\n",
       "    <tr>\n",
       "      <th>1</th>\n",
       "      <td>Tratamento e filtragem de dados ausentes</td>\n",
       "    </tr>\n",
       "    <tr>\n",
       "      <th>2</th>\n",
       "      <td>Preenchimento de dados ausentes</td>\n",
       "    </tr>\n",
       "    <tr>\n",
       "      <th>3</th>\n",
       "      <td>Transformação de dados</td>\n",
       "    </tr>\n",
       "    <tr>\n",
       "      <th>4</th>\n",
       "      <td>Remoção de duplicatas</td>\n",
       "    </tr>\n",
       "    <tr>\n",
       "      <th>5</th>\n",
       "      <td>Renomeação de índices num dataframe</td>\n",
       "    </tr>\n",
       "    <tr>\n",
       "      <th>6</th>\n",
       "      <td>Discretização (Binning)</td>\n",
       "    </tr>\n",
       "    <tr>\n",
       "      <th>7</th>\n",
       "      <td>Filtragem de valores discrepantes</td>\n",
       "    </tr>\n",
       "    <tr>\n",
       "      <th>8</th>\n",
       "      <td>Variáveis indicadoras/dummy</td>\n",
       "    </tr>\n",
       "    <tr>\n",
       "      <th>9</th>\n",
       "      <td>Manipulação de strings e expressões regulares</td>\n",
       "    </tr>\n",
       "    <tr>\n",
       "      <th>10</th>\n",
       "      <td>Funções de strings vetorizadas</td>\n",
       "    </tr>\n",
       "  </tbody>\n",
       "</table>\n",
       "</div>"
      ],
      "text/plain": [
       "             Texto contendo o conteúdo da atividade 3\n",
       "0   Leitura e Manipulação de arquivos em CSV Excel...\n",
       "1            Tratamento e filtragem de dados ausentes\n",
       "2                     Preenchimento de dados ausentes\n",
       "3                              Transformação de dados\n",
       "4                               Remoção de duplicatas\n",
       "5                 Renomeação de índices num dataframe\n",
       "6                             Discretização (Binning)\n",
       "7                   Filtragem de valores discrepantes\n",
       "8                         Variáveis indicadoras/dummy\n",
       "9       Manipulação de strings e expressões regulares\n",
       "10                     Funções de strings vetorizadas"
      ]
     },
     "execution_count": 123,
     "metadata": {},
     "output_type": "execute_result"
    }
   ],
   "source": [
    "_txt"
   ]
  },
  {
   "cell_type": "code",
   "execution_count": 141,
   "id": "f9b2233c",
   "metadata": {},
   "outputs": [],
   "source": [
    "indices = ['a','b','c','d','e','f','g','h','i','j','k']"
   ]
  },
  {
   "cell_type": "code",
   "execution_count": 145,
   "id": "7ef5f432",
   "metadata": {},
   "outputs": [],
   "source": [
    "_txt.index = indices"
   ]
  },
  {
   "cell_type": "code",
   "execution_count": 146,
   "id": "d675b843",
   "metadata": {},
   "outputs": [
    {
     "data": {
      "text/html": [
       "<div>\n",
       "<style scoped>\n",
       "    .dataframe tbody tr th:only-of-type {\n",
       "        vertical-align: middle;\n",
       "    }\n",
       "\n",
       "    .dataframe tbody tr th {\n",
       "        vertical-align: top;\n",
       "    }\n",
       "\n",
       "    .dataframe thead th {\n",
       "        text-align: right;\n",
       "    }\n",
       "</style>\n",
       "<table border=\"1\" class=\"dataframe\">\n",
       "  <thead>\n",
       "    <tr style=\"text-align: right;\">\n",
       "      <th></th>\n",
       "      <th>Texto contendo o conteúdo da atividade 3</th>\n",
       "    </tr>\n",
       "  </thead>\n",
       "  <tbody>\n",
       "    <tr>\n",
       "      <th>a</th>\n",
       "      <td>Leitura e Manipulação de arquivos em CSV Excel...</td>\n",
       "    </tr>\n",
       "    <tr>\n",
       "      <th>b</th>\n",
       "      <td>Tratamento e filtragem de dados ausentes</td>\n",
       "    </tr>\n",
       "    <tr>\n",
       "      <th>c</th>\n",
       "      <td>Preenchimento de dados ausentes</td>\n",
       "    </tr>\n",
       "    <tr>\n",
       "      <th>d</th>\n",
       "      <td>Transformação de dados</td>\n",
       "    </tr>\n",
       "    <tr>\n",
       "      <th>e</th>\n",
       "      <td>Remoção de duplicatas</td>\n",
       "    </tr>\n",
       "    <tr>\n",
       "      <th>f</th>\n",
       "      <td>Renomeação de índices num dataframe</td>\n",
       "    </tr>\n",
       "    <tr>\n",
       "      <th>g</th>\n",
       "      <td>Discretização (Binning)</td>\n",
       "    </tr>\n",
       "    <tr>\n",
       "      <th>h</th>\n",
       "      <td>Filtragem de valores discrepantes</td>\n",
       "    </tr>\n",
       "    <tr>\n",
       "      <th>i</th>\n",
       "      <td>Variáveis indicadoras/dummy</td>\n",
       "    </tr>\n",
       "    <tr>\n",
       "      <th>j</th>\n",
       "      <td>Manipulação de strings e expressões regulares</td>\n",
       "    </tr>\n",
       "    <tr>\n",
       "      <th>k</th>\n",
       "      <td>Funções de strings vetorizadas</td>\n",
       "    </tr>\n",
       "  </tbody>\n",
       "</table>\n",
       "</div>"
      ],
      "text/plain": [
       "            Texto contendo o conteúdo da atividade 3\n",
       "a  Leitura e Manipulação de arquivos em CSV Excel...\n",
       "b           Tratamento e filtragem de dados ausentes\n",
       "c                    Preenchimento de dados ausentes\n",
       "d                             Transformação de dados\n",
       "e                              Remoção de duplicatas\n",
       "f                Renomeação de índices num dataframe\n",
       "g                            Discretização (Binning)\n",
       "h                  Filtragem de valores discrepantes\n",
       "i                        Variáveis indicadoras/dummy\n",
       "j      Manipulação de strings e expressões regulares\n",
       "k                     Funções de strings vetorizadas"
      ]
     },
     "execution_count": 146,
     "metadata": {},
     "output_type": "execute_result"
    }
   ],
   "source": [
    "_txt"
   ]
  },
  {
   "cell_type": "markdown",
   "id": "b4133dcb",
   "metadata": {},
   "source": [
    "### Discretização (Binning)"
   ]
  },
  {
   "cell_type": "code",
   "execution_count": 223,
   "id": "da463558",
   "metadata": {},
   "outputs": [],
   "source": [
    "# Pegando todos os valores da conta e tranformando em uma lista\n",
    "valores_conta = list(_excel['Total a Pagar (R$)'])\n",
    "valores_conta.sort()\n",
    "\n",
    "#agrupar de 0-60, 61-120, 121-180,181-240,241-301, 300-até o fim\n",
    "bins = [0,60,120,180,240,300,4000]\n",
    "conjunto = pd.cut(valores_conta,bins)"
   ]
  },
  {
   "cell_type": "code",
   "execution_count": 231,
   "id": "1dc4e583",
   "metadata": {},
   "outputs": [
    {
     "data": {
      "text/plain": [
       "[0.0, 0.0, 0.0, 0.0, 0.0, 0.0, 0.0, 0.0, 0.0, 0.0]"
      ]
     },
     "execution_count": 231,
     "metadata": {},
     "output_type": "execute_result"
    }
   ],
   "source": [
    "valores_conta[990:1000]"
   ]
  },
  {
   "cell_type": "code",
   "execution_count": 230,
   "id": "922eb1e2",
   "metadata": {},
   "outputs": [
    {
     "data": {
      "text/plain": [
       "[(0, 60], (0, 60], (0, 60], (0, 60], (0, 60], ..., (300, 4000], (300, 4000], (300, 4000], (300, 4000], (300, 4000]]\n",
       "Length: 83\n",
       "Categories (6, interval[int64, right]): [(0, 60] < (60, 120] < (120, 180] < (180, 240] < (240, 300] < (300, 4000]]"
      ]
     },
     "execution_count": 230,
     "metadata": {},
     "output_type": "execute_result"
    }
   ],
   "source": [
    "conjunto[1800:]"
   ]
  },
  {
   "cell_type": "code",
   "execution_count": 225,
   "id": "778afbfd",
   "metadata": {},
   "outputs": [
    {
     "data": {
      "text/plain": [
       "IntervalIndex([(0, 60], (60, 120], (120, 180], (180, 240], (240, 300], (300, 4000]], dtype='interval[int64, right]')"
      ]
     },
     "execution_count": 225,
     "metadata": {},
     "output_type": "execute_result"
    }
   ],
   "source": [
    "conjunto.categories"
   ]
  },
  {
   "cell_type": "code",
   "execution_count": 232,
   "id": "90ec90d3",
   "metadata": {},
   "outputs": [
    {
     "data": {
      "text/plain": [
       "(60, 120]      34\n",
       "(300, 4000]    22\n",
       "(0, 60]        17\n",
       "(120, 180]     13\n",
       "(180, 240]      3\n",
       "(240, 300]      2\n",
       "dtype: int64"
      ]
     },
     "execution_count": 232,
     "metadata": {},
     "output_type": "execute_result"
    }
   ],
   "source": [
    "pd.value_counts(conjunto)"
   ]
  },
  {
   "cell_type": "markdown",
   "id": "5a11bc79",
   "metadata": {},
   "source": [
    "### Filtragem de valores discrepantes"
   ]
  },
  {
   "cell_type": "code",
   "execution_count": 235,
   "id": "f5b00460",
   "metadata": {},
   "outputs": [
    {
     "data": {
      "text/plain": [
       "count    1883.000000\n",
       "mean       19.700133\n",
       "std       175.299443\n",
       "min         0.000000\n",
       "25%         0.000000\n",
       "50%         0.000000\n",
       "75%         0.000000\n",
       "max      3907.450000\n",
       "Name: Total a Pagar (R$), dtype: float64"
      ]
     },
     "execution_count": 235,
     "metadata": {},
     "output_type": "execute_result"
    }
   ],
   "source": [
    "_excel['Total a Pagar (R$)'].describe()"
   ]
  },
  {
   "cell_type": "code",
   "execution_count": 280,
   "id": "e79052fb",
   "metadata": {},
   "outputs": [
    {
     "data": {
      "text/plain": [
       "1581    1418.09\n",
       "1587    2301.88\n",
       "1588    1563.02\n",
       "1593    1351.71\n",
       "1598    1594.51\n",
       "1599    1612.51\n",
       "1601    3907.45\n",
       "1608    1352.58\n",
       "1615    1754.87\n",
       "1719    2394.92\n",
       "1726    1953.75\n",
       "1781    2159.02\n",
       "1791    1201.16\n",
       "1794    1837.00\n",
       "Name: Total a Pagar (R$), dtype: float64"
      ]
     },
     "execution_count": 280,
     "metadata": {},
     "output_type": "execute_result"
    }
   ],
   "source": [
    "#Filtrando valores maiores que R$ 1000,00\n",
    "_excel['Total a Pagar (R$)'][(np.abs(_excel['Total a Pagar (R$)']) >1000)]"
   ]
  },
  {
   "cell_type": "code",
   "execution_count": 283,
   "id": "5628778f",
   "metadata": {},
   "outputs": [
    {
     "data": {
      "text/plain": [
       "1587    2301.88\n",
       "1601    3907.45\n",
       "1719    2394.92\n",
       "1781    2159.02\n",
       "Name: Total a Pagar (R$), dtype: float64"
      ]
     },
     "execution_count": 283,
     "metadata": {},
     "output_type": "execute_result"
    }
   ],
   "source": [
    "#Filtrando valores maiores que R$ 2000,00\n",
    "_excel['Total a Pagar (R$)'][(np.abs(_excel['Total a Pagar (R$)']) >2000)]"
   ]
  },
  {
   "cell_type": "markdown",
   "id": "09053a52",
   "metadata": {},
   "source": [
    "### Variáveis indicadoras/dummy"
   ]
  },
  {
   "cell_type": "code",
   "execution_count": 290,
   "id": "c83f053a",
   "metadata": {},
   "outputs": [],
   "source": [
    "np.random.seed(10)\n",
    "values = np.random.rand(10)"
   ]
  },
  {
   "cell_type": "code",
   "execution_count": 291,
   "id": "cd2d1a7c",
   "metadata": {},
   "outputs": [
    {
     "data": {
      "text/plain": [
       "array([0.77132064, 0.02075195, 0.63364823, 0.74880388, 0.49850701,\n",
       "       0.22479665, 0.19806286, 0.76053071, 0.16911084, 0.08833981])"
      ]
     },
     "execution_count": 291,
     "metadata": {},
     "output_type": "execute_result"
    }
   ],
   "source": [
    "values"
   ]
  },
  {
   "cell_type": "code",
   "execution_count": 303,
   "id": "b529fb44",
   "metadata": {},
   "outputs": [],
   "source": [
    "bins_2 = [0, 0.2, 0.4, 0.6, 0.8, 1]"
   ]
  },
  {
   "cell_type": "code",
   "execution_count": 304,
   "id": "57e0d5d3",
   "metadata": {},
   "outputs": [
    {
     "data": {
      "text/html": [
       "<div>\n",
       "<style scoped>\n",
       "    .dataframe tbody tr th:only-of-type {\n",
       "        vertical-align: middle;\n",
       "    }\n",
       "\n",
       "    .dataframe tbody tr th {\n",
       "        vertical-align: top;\n",
       "    }\n",
       "\n",
       "    .dataframe thead th {\n",
       "        text-align: right;\n",
       "    }\n",
       "</style>\n",
       "<table border=\"1\" class=\"dataframe\">\n",
       "  <thead>\n",
       "    <tr style=\"text-align: right;\">\n",
       "      <th></th>\n",
       "      <th>(0.0, 0.2]</th>\n",
       "      <th>(0.2, 0.4]</th>\n",
       "      <th>(0.4, 0.6]</th>\n",
       "      <th>(0.6, 0.8]</th>\n",
       "      <th>(0.8, 1.0]</th>\n",
       "    </tr>\n",
       "  </thead>\n",
       "  <tbody>\n",
       "    <tr>\n",
       "      <th>0</th>\n",
       "      <td>0</td>\n",
       "      <td>0</td>\n",
       "      <td>0</td>\n",
       "      <td>1</td>\n",
       "      <td>0</td>\n",
       "    </tr>\n",
       "    <tr>\n",
       "      <th>1</th>\n",
       "      <td>1</td>\n",
       "      <td>0</td>\n",
       "      <td>0</td>\n",
       "      <td>0</td>\n",
       "      <td>0</td>\n",
       "    </tr>\n",
       "    <tr>\n",
       "      <th>2</th>\n",
       "      <td>0</td>\n",
       "      <td>0</td>\n",
       "      <td>0</td>\n",
       "      <td>1</td>\n",
       "      <td>0</td>\n",
       "    </tr>\n",
       "    <tr>\n",
       "      <th>3</th>\n",
       "      <td>0</td>\n",
       "      <td>0</td>\n",
       "      <td>0</td>\n",
       "      <td>1</td>\n",
       "      <td>0</td>\n",
       "    </tr>\n",
       "    <tr>\n",
       "      <th>4</th>\n",
       "      <td>0</td>\n",
       "      <td>0</td>\n",
       "      <td>1</td>\n",
       "      <td>0</td>\n",
       "      <td>0</td>\n",
       "    </tr>\n",
       "    <tr>\n",
       "      <th>5</th>\n",
       "      <td>0</td>\n",
       "      <td>1</td>\n",
       "      <td>0</td>\n",
       "      <td>0</td>\n",
       "      <td>0</td>\n",
       "    </tr>\n",
       "    <tr>\n",
       "      <th>6</th>\n",
       "      <td>1</td>\n",
       "      <td>0</td>\n",
       "      <td>0</td>\n",
       "      <td>0</td>\n",
       "      <td>0</td>\n",
       "    </tr>\n",
       "    <tr>\n",
       "      <th>7</th>\n",
       "      <td>0</td>\n",
       "      <td>0</td>\n",
       "      <td>0</td>\n",
       "      <td>1</td>\n",
       "      <td>0</td>\n",
       "    </tr>\n",
       "    <tr>\n",
       "      <th>8</th>\n",
       "      <td>1</td>\n",
       "      <td>0</td>\n",
       "      <td>0</td>\n",
       "      <td>0</td>\n",
       "      <td>0</td>\n",
       "    </tr>\n",
       "    <tr>\n",
       "      <th>9</th>\n",
       "      <td>1</td>\n",
       "      <td>0</td>\n",
       "      <td>0</td>\n",
       "      <td>0</td>\n",
       "      <td>0</td>\n",
       "    </tr>\n",
       "  </tbody>\n",
       "</table>\n",
       "</div>"
      ],
      "text/plain": [
       "   (0.0, 0.2]  (0.2, 0.4]  (0.4, 0.6]  (0.6, 0.8]  (0.8, 1.0]\n",
       "0           0           0           0           1           0\n",
       "1           1           0           0           0           0\n",
       "2           0           0           0           1           0\n",
       "3           0           0           0           1           0\n",
       "4           0           0           1           0           0\n",
       "5           0           1           0           0           0\n",
       "6           1           0           0           0           0\n",
       "7           0           0           0           1           0\n",
       "8           1           0           0           0           0\n",
       "9           1           0           0           0           0"
      ]
     },
     "execution_count": 304,
     "metadata": {},
     "output_type": "execute_result"
    }
   ],
   "source": [
    "pd.get_dummies(pd.cut(values, bins_2))"
   ]
  },
  {
   "cell_type": "markdown",
   "id": "1330e926",
   "metadata": {},
   "source": [
    "### Manipulação de strings e expressões regulares"
   ]
  },
  {
   "cell_type": "code",
   "execution_count": 330,
   "id": "ef7f733e",
   "metadata": {},
   "outputs": [
    {
     "data": {
      "text/plain": [
       "a    Leitura e Manipulação de arquivos em CSV Excel...\n",
       "b             Tratamento e filtragem de dados ausentes\n",
       "c                      Preenchimento de dados ausentes\n",
       "d                               Transformação de dados\n",
       "e                                Remoção de duplicatas\n",
       "f                  Renomeação de índices num dataframe\n",
       "g                              Discretização (Binning)\n",
       "h                    Filtragem de valores discrepantes\n",
       "i                          Variáveis indicadoras/dummy\n",
       "j        Manipulação de strings e expressões regulares\n",
       "k                       Funções de strings vetorizadas\n",
       "Name: Texto contendo o conteúdo da atividade 3, dtype: object"
      ]
     },
     "execution_count": 330,
     "metadata": {},
     "output_type": "execute_result"
    }
   ],
   "source": [
    "_txt['Texto contendo o conteúdo da atividade 3']"
   ]
  },
  {
   "cell_type": "code",
   "execution_count": 331,
   "id": "d52de707",
   "metadata": {},
   "outputs": [],
   "source": [
    "atividade = str(list(_txt['Texto contendo o conteúdo da atividade 3']))"
   ]
  },
  {
   "cell_type": "code",
   "execution_count": 332,
   "id": "5264f4d4",
   "metadata": {},
   "outputs": [
    {
     "data": {
      "text/plain": [
       "3"
      ]
     },
     "execution_count": 332,
     "metadata": {},
     "output_type": "execute_result"
    }
   ],
   "source": [
    "#Verificando a ocorrência da palavra: dados\n",
    "atividade.count('dados')"
   ]
  },
  {
   "cell_type": "code",
   "execution_count": 334,
   "id": "bcb3dce9",
   "metadata": {},
   "outputs": [
    {
     "data": {
      "text/plain": [
       "\"['Leitura e Manipulação de arquivos em CSV Excel e TXT', 'Tratamento e filtragem de Dados ausentes', 'Preenchimento de Dados ausentes', 'Transformação de Dados', 'Remoção de duplicatas', 'Renomeação de índices num dataframe', 'Discretização (Binning)', 'Filtragem de valores discrepantes', 'Variáveis indicadoras/dummy', 'Manipulação de strings e expressões regulares', 'Funções de strings vetorizadas']\""
      ]
     },
     "execution_count": 334,
     "metadata": {},
     "output_type": "execute_result"
    }
   ],
   "source": [
    "#Subistituindo a primeira letra\n",
    "atividade.replace('dados','Dados')"
   ]
  },
  {
   "cell_type": "code",
   "execution_count": 335,
   "id": "1da683f8",
   "metadata": {},
   "outputs": [],
   "source": [
    "import re"
   ]
  },
  {
   "cell_type": "code",
   "execution_count": 339,
   "id": "d7fbf323",
   "metadata": {},
   "outputs": [],
   "source": [
    "texto= str(list(_txt['Texto contendo o conteúdo da atividade 3']))"
   ]
  },
  {
   "cell_type": "code",
   "execution_count": 341,
   "id": "09899906",
   "metadata": {},
   "outputs": [
    {
     "data": {
      "text/plain": [
       "\"['Leitura e Manipulação de arquivos em CSV Excel e TXT', 'Tratamento e filtragem de dados ausentes', 'Preenchimento de dados ausentes', 'Transformação de dados', 'Remoção de duplicatas', 'Renomeação de índices num dataframe', 'Discretização (Binning)', 'Filtragem de valores discrepantes', 'Variáveis indicadoras/dummy', 'Manipulação de strings e expressões regulares', 'Funções de strings vetorizadas']\""
      ]
     },
     "execution_count": 341,
     "metadata": {},
     "output_type": "execute_result"
    }
   ],
   "source": [
    "texto"
   ]
  },
  {
   "cell_type": "code",
   "execution_count": 349,
   "id": "44e2dfc6",
   "metadata": {},
   "outputs": [
    {
     "name": "stdout",
     "output_type": "stream",
     "text": [
      "[\"['Leitura\", 'e', 'Manipulação', 'de', 'arquivos', 'em', 'CSV', 'Excel', 'e', \"TXT',\", \"'Tratamento\", 'e', 'filtragem', 'de', 'dados', \"ausentes',\", \"'Preenchimento\", 'de', 'dados', \"ausentes',\", \"'Transformação\", 'de', \"dados',\", \"'Remoção\", 'de', \"duplicatas',\", \"'Renomeação\", 'de', 'índices', 'num', \"dataframe',\", \"'Discretização\", \"(Binning)',\", \"'Filtragem\", 'de', 'valores', \"discrepantes',\", \"'Variáveis\", \"indicadoras/dummy',\", \"'Manipulação\", 'de', 'strings', 'e', 'expressões', \"regulares',\", \"'Funções\", 'de', 'strings', \"vetorizadas']\"]\n"
     ]
    }
   ],
   "source": [
    "#Removedo espaço em brando\n",
    "print(re.split('\\s+' ,texto))"
   ]
  },
  {
   "cell_type": "markdown",
   "id": "b23fa830",
   "metadata": {},
   "source": [
    "### Funções de string vetorizadas no pandas\n"
   ]
  },
  {
   "cell_type": "code",
   "execution_count": 350,
   "id": "b23504fe",
   "metadata": {},
   "outputs": [],
   "source": [
    "data = {'Dave': 'dave@google.com', 'Steve': 'steve@gmail.com','Rob': 'rob@gmail.com', 'Wes': np.nan}\n",
    "data = pd.Series(data)"
   ]
  },
  {
   "cell_type": "code",
   "execution_count": 351,
   "id": "0f81a90b",
   "metadata": {},
   "outputs": [
    {
     "data": {
      "text/plain": [
       "Dave     dave@google.com\n",
       "Steve    steve@gmail.com\n",
       "Rob        rob@gmail.com\n",
       "Wes                  NaN\n",
       "dtype: object"
      ]
     },
     "execution_count": 351,
     "metadata": {},
     "output_type": "execute_result"
    }
   ],
   "source": [
    "data"
   ]
  },
  {
   "cell_type": "code",
   "execution_count": 352,
   "id": "ed3f6e33",
   "metadata": {},
   "outputs": [
    {
     "data": {
      "text/plain": [
       "Dave     False\n",
       "Steve    False\n",
       "Rob      False\n",
       "Wes       True\n",
       "dtype: bool"
      ]
     },
     "execution_count": 352,
     "metadata": {},
     "output_type": "execute_result"
    }
   ],
   "source": [
    "data.isnull()"
   ]
  },
  {
   "cell_type": "code",
   "execution_count": 353,
   "id": "4aee5efd",
   "metadata": {},
   "outputs": [],
   "source": [
    "pattern = '([A-Z0-9._%+-]+)@([A-Z0-9.-]+)\\\\.([A-Z]{2,4})'"
   ]
  },
  {
   "cell_type": "code",
   "execution_count": 354,
   "id": "5441dc48",
   "metadata": {},
   "outputs": [
    {
     "data": {
      "text/plain": [
       "Dave     [(dave, google, com)]\n",
       "Steve    [(steve, gmail, com)]\n",
       "Rob        [(rob, gmail, com)]\n",
       "Wes                        NaN\n",
       "dtype: object"
      ]
     },
     "execution_count": 354,
     "metadata": {},
     "output_type": "execute_result"
    }
   ],
   "source": [
    "data.str.findall(pattern, flags=re.IGNORECASE)"
   ]
  },
  {
   "cell_type": "code",
   "execution_count": 355,
   "id": "1f6df4c5",
   "metadata": {},
   "outputs": [],
   "source": [
    "matches = data.str.match(pattern, flags=re.IGNORECASE)"
   ]
  },
  {
   "cell_type": "code",
   "execution_count": 356,
   "id": "9bddafab",
   "metadata": {},
   "outputs": [
    {
     "data": {
      "text/plain": [
       "Dave     True\n",
       "Steve    True\n",
       "Rob      True\n",
       "Wes       NaN\n",
       "dtype: object"
      ]
     },
     "execution_count": 356,
     "metadata": {},
     "output_type": "execute_result"
    }
   ],
   "source": [
    "matches"
   ]
  },
  {
   "cell_type": "code",
   "execution_count": 360,
   "id": "0a1a66f9",
   "metadata": {},
   "outputs": [
    {
     "data": {
      "text/plain": [
       "Dave     dave@\n",
       "Steve    steve\n",
       "Rob      rob@g\n",
       "Wes        NaN\n",
       "dtype: object"
      ]
     },
     "execution_count": 360,
     "metadata": {},
     "output_type": "execute_result"
    }
   ],
   "source": [
    "data.str[:5]"
   ]
  }
 ],
 "metadata": {
  "kernelspec": {
   "display_name": "Python 3 (ipykernel)",
   "language": "python",
   "name": "python3"
  },
  "language_info": {
   "codemirror_mode": {
    "name": "ipython",
    "version": 3
   },
   "file_extension": ".py",
   "mimetype": "text/x-python",
   "name": "python",
   "nbconvert_exporter": "python",
   "pygments_lexer": "ipython3",
   "version": "3.9.12"
  }
 },
 "nbformat": 4,
 "nbformat_minor": 5
}
